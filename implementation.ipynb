{
 "cells": [
  {
   "cell_type": "markdown",
   "metadata": {},
   "source": [
    "### 구현 알고리즘 \n",
    "\n",
    "- 구현 : 머리속에 있는 알고리즘을 소스코드로 바꾸는 과정\n",
    "\n",
    "    - 완전 탐색 : 모든 경우의 수를 주저 없이 다 계산하는 해결 방법 \n",
    "    - 시뮬레이션 : 문제에서 제시한 알고리즘을 한 단계씩 차례대로 직접 수행"
   ]
  },
  {
   "cell_type": "markdown",
   "metadata": {},
   "source": [
    "#### 상하좌우\n",
    "\n",
    "- n * n 크기의 정사각형 공간이 있다\n",
    "- 가장 왼쪽 위 좌표는 (1,1), 가장 오른쪽 아래 좌표는 (n,n) \n",
    "- L(왼쪽), R(오른쪽), U(위), D(아래쪽)으로 한 칸 이동\n",
    "- 최종적으로 여행자가 도착할 지점의 좌표 출력"
   ]
  },
  {
   "cell_type": "code",
   "execution_count": 17,
   "metadata": {},
   "outputs": [
    {
     "name": "stdout",
     "output_type": "stream",
     "text": [
      "[3, 4]\n"
     ]
    }
   ],
   "source": [
    "n = int(input()) # 공간의 크기 (5)\n",
    "plan = list(map(str,input().split())) # R R R U D D\n",
    "w = [1,1]\n",
    "\n",
    "for i in plan:\n",
    "\n",
    "    if w[0] == 1 or w[1] == 1:\n",
    "        if i in ['L','U']:\n",
    "            continue\n",
    "\n",
    "    if w[0] == n or w[1] == n:\n",
    "        if i in ['R','D']:\n",
    "            continue\n",
    "\n",
    "    if i == 'R':\n",
    "        w[1] += 1\n",
    "    elif i == 'L':\n",
    "        w[1] -= 1\n",
    "    elif i == 'U':\n",
    "        w[0] -= 1\n",
    "    else:\n",
    "        w[0] += 1\n",
    "\n",
    "print(w)"
   ]
  },
  {
   "cell_type": "markdown",
   "metadata": {},
   "source": [
    "#### 시각\n",
    "\n",
    "- 정수 n이 입력되면 0시 0분 0초부터 n시 59분 59초까지 모든 시각 중 3이 하나라도 포함되는 모든 경우의 수를 구하시오."
   ]
  },
  {
   "cell_type": "code",
   "execution_count": 20,
   "metadata": {},
   "outputs": [
    {
     "name": "stdout",
     "output_type": "stream",
     "text": [
      "11475\n"
     ]
    }
   ],
   "source": [
    "n = int(input()) # 5\n",
    "cnt = 0\n",
    "for i in range(n+1):\n",
    "    for j in range(60):\n",
    "        for k in range(60):\n",
    "            if '3' in str(i)+str(j)+str(k):\n",
    "                cnt += 1\n",
    "\n",
    "print(cnt)"
   ]
  },
  {
   "cell_type": "code",
   "execution_count": null,
   "metadata": {},
   "outputs": [],
   "source": []
  }
 ],
 "metadata": {
  "kernelspec": {
   "display_name": "Python 3",
   "language": "python",
   "name": "python3"
  },
  "language_info": {
   "codemirror_mode": {
    "name": "ipython",
    "version": 3
   },
   "file_extension": ".py",
   "mimetype": "text/x-python",
   "name": "python",
   "nbconvert_exporter": "python",
   "pygments_lexer": "ipython3",
   "version": "3.11.4"
  },
  "orig_nbformat": 4
 },
 "nbformat": 4,
 "nbformat_minor": 2
}
