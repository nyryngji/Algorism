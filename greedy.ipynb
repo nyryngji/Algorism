{
 "cells": [
  {
   "cell_type": "markdown",
   "metadata": {},
   "source": [
    "### 그리디 알고리즘 \n",
    "\n",
    "- 어떤 문제가 있을 때 단순 무식하게 문제를 푸는 알고리즘 \n",
    "- 현재 상황에서 가장 좋은 것을 고르는 알고리즘"
   ]
  },
  {
   "cell_type": "markdown",
   "metadata": {},
   "source": [
    "<br>",
    "#### 거스름돈 \n",
    "\n",
    "- 손님에게 거슬러줘야 할 돈이 n원일 때, 거슬러줘야 할 동전의 최소 개수"
   ]
  },
  {
   "cell_type": "code",
   "execution_count": 1,
   "metadata": {},
   "outputs": [
    {
     "name": "stdout",
     "output_type": "stream",
     "text": [
      "6\n"
     ]
    }
   ],
   "source": [
    "n = int(input()) # ex) 1260원\n",
    "coin = [500,100,50,10]\n",
    "cnt = 0\n",
    "\n",
    "while n > 0:\n",
    "    for i in coin:\n",
    "        cnt += n//i\n",
    "        n -= i*(n//i)\n",
    "\n",
    "print(cnt)"
   ]
  },
  {
   "cell_type": "markdown",
   "metadata": {},
   "source": [
    "<br>",
    "#### 큰 수의 법칙\n",
    "\n",
    "- 첫째 줄에 n,m,k의 자연수가 주어지며 각 자연수는 공백으로 구분 \n",
    "- 둘째 줄에 n개의 자연수가 주어짐\n",
    "- 입력으로 주어지는 k는 항상 m보다 작거나 같음\n",
    "- **주어진 수들을 더해 가장 큰 수를 만들어야 함 -> 단, 수가 k번을 초과해서 더해질 수 없음**"
   ]
  },
  {
   "cell_type": "code",
   "execution_count": 2,
   "metadata": {},
   "outputs": [
    {
     "name": "stdout",
     "output_type": "stream",
     "text": [
      "46.0\n"
     ]
    }
   ],
   "source": [
    "n,m,k = map(int,input().split()) # 5 8 3 \n",
    "lst = sorted(list(map(int,input().split())),reverse=True) # 2 4 5 4 6\n",
    "print(lst[0]*k + lst[1]*((m-2*k)/2) + lst[0]*k + lst[1]*((m-2*k)/2))"
   ]
  },
  {
   "cell_type": "markdown",
   "metadata": {},
   "source": [
    "<br>",
    "#### 숫자 카드 게임\n",
    "\n",
    "- 숫자가 쓰인 카드들이 n x m의 형태로 놓여있음 (n은 행의 개수, m은 열의 개수)\n",
    "- 뽑고자 하는 카드가 포함되어 있는 행을 선택 \n",
    "- 선택된 행에 포함된 카드 중 가장 숫자가 낮은 카드를 선택 \n",
    "- **행마다 가장 작은 수를 뽑은 후 그 중 가장 큰 숫자를 찾아야 함**"
   ]
  },
  {
   "cell_type": "code",
   "execution_count": 3,
   "metadata": {},
   "outputs": [
    {
     "name": "stdout",
     "output_type": "stream",
     "text": [
      "2\n"
     ]
    }
   ],
   "source": [
    "n,m = map(int,input().split()) # n은 행, m은 열 ex) 3 3 \n",
    "result = []\n",
    "for i in range(n):\n",
    "    lst = list(map(int,input().split())) # 3 1 2, 4 1 4, 2 2 2\n",
    "    result.append(min(lst))\n",
    "\n",
    "print(max(result))"
   ]
  },
  {
   "cell_type": "markdown",
   "metadata": {},
   "source": [
    "<br>",
    "#### 1이 될 때까지\n",
    "\n",
    "- 어떠한 수 n이 1이 될 때까지 다음 두 과정 중 하나를 선택해서 수행하고자 함\n",
    "    - 1. n에서 1을 뺀다 (n이 k로 나눠지지 않은 경우)\n",
    "    - 2. n을 k로 나눈다 (n이 k로 나눠지는 경우)\n",
    "\n",
    "- **n과 k가 주어질 때 n이 1이 될 때까지 1,2의 과정을 수행해야 하는 최소 횟수를 구해야 함**"
   ]
  },
  {
   "cell_type": "code",
   "execution_count": 4,
   "metadata": {},
   "outputs": [
    {
     "name": "stdout",
     "output_type": "stream",
     "text": [
      "6\n"
     ]
    }
   ],
   "source": [
    "n,k = map(int,input().split()) # 25, 3\n",
    "cnt = 0 \n",
    "\n",
    "while n>1:\n",
    "    if n%k!=0:\n",
    "        n-=1\n",
    "        cnt += 1\n",
    "    else:\n",
    "        n/=k\n",
    "        cnt += 1\n",
    "\n",
    "print(cnt)"
   ]
  }
 ],
 "metadata": {
  "kernelspec": {
   "display_name": "Python 3",
   "language": "python",
   "name": "python3"
  },
  "language_info": {
   "codemirror_mode": {
    "name": "ipython",
    "version": 3
   },
   "file_extension": ".py",
   "mimetype": "text/x-python",
   "name": "python",
   "nbconvert_exporter": "python",
   "pygments_lexer": "ipython3",
   "version": "3.11.4"
  },
  "orig_nbformat": 4
 },
 "nbformat": 4,
 "nbformat_minor": 2
}
